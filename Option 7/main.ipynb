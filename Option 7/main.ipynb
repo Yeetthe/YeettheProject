{
 "cells": [
  {
   "cell_type": "markdown",
   "metadata": {},
   "source": [
    "# Neural Network\n",
    "\n",
    "## Could we program a computer to learn from this data and then be able to tell the output of any new data it recieves?\n",
    "## yes, we absolutely can, heres how:\n",
    "### this shows 5 example sets of 4 inputs with input values per example, and with 1 output per example\n",
    "### the rule here is that if the first 2 values are the same, and the the 3rd value is opposite to the output of 1 and 2 that the output is 1. if not its 0\n",
    "### example data:\n",
    "<img src=\"set.png\" style=\"width: 600px\"/>"
   ]
  },
  {
   "cell_type": "markdown",
   "metadata": {},
   "source": [
    "### What hapends:\n",
    "1. set down basics of the Neural Network\n",
    "\n",
    "2. calculate error rate\n",
    "\n",
    "3. based on the error rate, automatically make the computer make adustments to the weights\n",
    "\n",
    "4. do steps 2 and 3 19,999 more times\n",
    "\n",
    "5. test input"
   ]
  },
  {
   "cell_type": "markdown",
   "metadata": {},
   "source": [
    "### what to do?\n",
    "### formula:\n",
    "### $$ \\phi(\\sum_{i=1}^n x_i w_i) $$\n",
    "### $ n $ = ammount of inputs \n",
    "### $ x_i $ = certain input, eg imput 1 or 2 or sumthing like that\n",
    "### $ w_i $ = certain weight eg weight 1 or 2\n",
    "### $ \\phi $ = sigmoid normalizing funtion\n",
    "### sigmoid normalizing function:\n",
    "### $$ \\phi(x) = \\frac{1}{1+e^{-x}} $$"
   ]
  },
  {
   "cell_type": "markdown",
   "metadata": {},
   "source": [
    "### imports"
   ]
  },
  {
   "cell_type": "code",
   "execution_count": 3,
   "metadata": {},
   "outputs": [],
   "source": [
    "# imports\n",
    "import numpy as np\n",
    "import pandas as pd"
   ]
  },
  {
   "cell_type": "markdown",
   "metadata": {},
   "source": [
    "### what hapens here:\n",
    "1. define sigmoid func\n",
    "\n",
    "2. set up our test arrays\n",
    "\n",
    "3. set up our dummy weights using a set of random numbers\n",
    "\n",
    "4. apply the sigmoid function for example 1 and the dummy weights\n",
    "\n",
    "5. make weigts dynamic\n",
    "\n",
    "6. calculate functions again\n",
    "\n",
    "7. calculate error\n",
    "\n",
    "8. calculate adjustments\n",
    "\n",
    "9. apply adjustments to weights\n",
    "\n",
    "10. do steps 6-9 20,000 times\n",
    "\n"
   ]
  },
  {
   "cell_type": "code",
   "execution_count": 5,
   "metadata": {},
   "outputs": [
    {
     "name": "stdout",
     "output_type": "stream",
     "text": [
      "Dummy weights\n",
      "[[-0.62747958]\n",
      " [-0.30887855]\n",
      " [-0.20646505]]\n",
      "[0 1 0]\n",
      "output\n",
      "[0.4233885]\n"
     ]
    }
   ],
   "source": [
    "def sigmoid(x):   # this of course is the sigmoid normal function we will use\n",
    "    return 1 / (1 + np.exp(-x))\n",
    "\n",
    "table_inputs = np.array([[0,1,0],  # our inputs in a nested array (i guess)\n",
    "                        [1,1,1],\n",
    "                        [0,0,1],\n",
    "                        [1,0,1],\n",
    "                        [1,1,0],\n",
    "                        [0,1,1],\n",
    "                        [0,0,0],\n",
    "                        [1,0,0]])\n",
    "\n",
    "table_outputs = np.array([[0,0,0,1,1,1,0,1]]).T  # outputs.  the '.T' particle is for formating purposes\n",
    "\n",
    "# this is the w_j func\n",
    "dummy_weights = np.array([\n",
    "    [-0.62747958],\n",
    "    [-0.30887855],\n",
    "    [-0.20646505]])  # this makes the random weights static for the time being so i can use it as an example\n",
    "\n",
    "print(\"Dummy weights\")\n",
    "print(dummy_weights)\n",
    "print(table_inputs[0])\n",
    "print(\"output\")\n",
    "print(sigmoid(np.dot(table_inputs[0], dummy_weights)))  # the np.dot funtion is identical to the summaion of the product of the imput and the dummy weights (summated formula from earlier)"
   ]
  },
  {
   "cell_type": "markdown",
   "metadata": {},
   "source": [
    "## What do we do with this?\n",
    "### Lets Only use the values of example 1 for this. the outputed weight for example 1 is 0.4233885\n",
    "### Well we now know the values of $ w_1, w_2, w_3 $ and so on, we can use the first formula from earlier to calculate:\n",
    "### $$ \\sum_{i=1}^3 x_i w_i = x_1 w_1 + x_2 w_2 + x_3 w_3$$\n",
    "### $$ 0(-0.62747958) + 1(-0.308878) + 0(-0.20646505) = -0.30887855 $$\n",
    "### here are the results on desmos, with the point (-0.30887855, 0.4233885) which if you calculate: $ \\phi(-0.30887855) $, it equals 0.4233885\n",
    "<img src=\"results.png\" />"
   ]
  },
  {
   "cell_type": "markdown",
   "metadata": {},
   "source": [
    "## What does this mean and what do we do with the info?\n",
    "### we fist need to find errors, correct the weights, then run it about 20,000 times in order to explain"
   ]
  },
  {
   "cell_type": "markdown",
   "metadata": {},
   "source": [
    "### using the rate of change (derrivative) of the sigmoid function from earlier,\n",
    "#### sigmoid derrivative function:\n",
    "### $$ \\phi'(x) = x \\times (1-x) $$\n",
    "### error = output from sample data - $ \\phi(x) $\n",
    "### adjustments = error * input * $ \\phi'(outputs) $"
   ]
  },
  {
   "cell_type": "code",
   "execution_count": 7,
   "metadata": {},
   "outputs": [
    {
     "name": "stdout",
     "output_type": "stream",
     "text": [
      "weights before training:\n",
      "[[-0.19630774]\n",
      " [ 0.88539977]\n",
      " [ 0.19563023]]\n",
      "[[0 1 0]\n",
      " [1 1 1]\n",
      " [0 0 1]\n",
      " [1 0 1]\n",
      " [1 1 0]\n",
      " [0 1 1]\n",
      " [0 0 0]\n",
      " [1 0 0]]\n",
      "eww\n",
      "weights after\n",
      "[[13.19769208]\n",
      " [-8.74129516]\n",
      " [-8.74129516]]\n"
     ]
    }
   ],
   "source": [
    "def sigmoid_error(x): # derrivative function of sigmoid normal function\n",
    "    return x * (1 - x)\n",
    "\n",
    "synaptic_weights = 2 * np.random.random((3,1)) - 1  # randomizing weights\n",
    "\n",
    "print(\"weights before training:\")\n",
    "print(synaptic_weights) # comparing weights before training\n",
    "print(table_inputs)\n",
    "print(\"eww\")\n",
    "\n",
    "i=0\n",
    "while i < 20000:\n",
    "    outputs = sigmoid(np.dot(table_inputs, synaptic_weights)) # applies the origional formula and gives an output\n",
    "    error = table_outputs - outputs  # calculates error\n",
    "    adjustments = error * sigmoid_error(outputs)   # calculates adjustments\n",
    "    synaptic_weights += np.dot(table_inputs.T, adjustments)  # applies adjustments to weights\n",
    "    i = i+1\n",
    "\n",
    "print(\"weights after\")\n",
    "print(synaptic_weights) # "
   ]
  },
  {
   "cell_type": "markdown",
   "metadata": {},
   "source": [
    "## Test Imput"
   ]
  },
  {
   "cell_type": "code",
   "execution_count": 8,
   "metadata": {},
   "outputs": [
    {
     "name": "stdout",
     "output_type": "stream",
     "text": [
      "[0.98852901]\n"
     ]
    }
   ],
   "source": [
    "test_input = [1,0,1]\n",
    "print(sigmoid(np.dot(test_input, synaptic_weights)))"
   ]
  }
 ],
 "metadata": {
  "kernelspec": {
   "display_name": "Python 3",
   "language": "python",
   "name": "python3"
  },
  "language_info": {
   "codemirror_mode": {
    "name": "ipython",
    "version": 3
   },
   "file_extension": ".py",
   "mimetype": "text/x-python",
   "name": "python",
   "nbconvert_exporter": "python",
   "pygments_lexer": "ipython3",
   "version": "3.10.6"
  },
  "orig_nbformat": 4
 },
 "nbformat": 4,
 "nbformat_minor": 2
}
