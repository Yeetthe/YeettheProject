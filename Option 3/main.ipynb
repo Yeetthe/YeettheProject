{
 "cells": [
  {
   "cell_type": "markdown",
   "metadata": {},
   "source": [
    "# K-NN classifier"
   ]
  },
  {
   "cell_type": "code",
   "execution_count": 4,
   "metadata": {},
   "outputs": [],
   "source": [
    "# import packages\n",
    "import pandas as pd\n",
    "import numpy as np\n",
    "from sklearn.model_selection import train_test_split\n",
    "from sklearn.preprocessing import StandardScaler\n",
    "from sklearn.neighbors import KNeighborsClassifier\n",
    "from sklearn.metrics import accuracy_score"
   ]
  },
  {
   "cell_type": "code",
   "execution_count": 5,
   "metadata": {},
   "outputs": [
    {
     "name": "stdout",
     "output_type": "stream",
     "text": [
      "    diagnosis  radius_mean  texture_mean  perimeter_mean  area_mean  \\\n",
      "0           M        17.99         10.38          122.80     1001.0   \n",
      "1           M        20.57         17.77          132.90     1326.0   \n",
      "2           M        19.69         21.25          130.00     1203.0   \n",
      "3           M        11.42         20.38           77.58      386.1   \n",
      "4           M        20.29         14.34          135.10     1297.0   \n",
      "..        ...          ...           ...             ...        ...   \n",
      "564         M        21.56         22.39          142.00     1479.0   \n",
      "565         M        20.13         28.25          131.20     1261.0   \n",
      "566         M        16.60         28.08          108.30      858.1   \n",
      "567         M        20.60         29.33          140.10     1265.0   \n",
      "568         B         7.76         24.54           47.92      181.0   \n",
      "\n",
      "     smoothness_mean  compactness_mean  concavity_mean  concave points_mean  \\\n",
      "0            0.11840           0.27760         0.30010              0.14710   \n",
      "1            0.08474           0.07864         0.08690              0.07017   \n",
      "2            0.10960           0.15990         0.19740              0.12790   \n",
      "3            0.14250           0.28390         0.24140              0.10520   \n",
      "4            0.10030           0.13280         0.19800              0.10430   \n",
      "..               ...               ...             ...                  ...   \n",
      "564          0.11100           0.11590         0.24390              0.13890   \n",
      "565          0.09780           0.10340         0.14400              0.09791   \n",
      "566          0.08455           0.10230         0.09251              0.05302   \n",
      "567          0.11780           0.27700         0.35140              0.15200   \n",
      "568          0.05263           0.04362         0.00000              0.00000   \n",
      "\n",
      "     symmetry_mean  ...  radius_worst  texture_worst  perimeter_worst  \\\n",
      "0           0.2419  ...        25.380          17.33           184.60   \n",
      "1           0.1812  ...        24.990          23.41           158.80   \n",
      "2           0.2069  ...        23.570          25.53           152.50   \n",
      "3           0.2597  ...        14.910          26.50            98.87   \n",
      "4           0.1809  ...        22.540          16.67           152.20   \n",
      "..             ...  ...           ...            ...              ...   \n",
      "564         0.1726  ...        25.450          26.40           166.10   \n",
      "565         0.1752  ...        23.690          38.25           155.00   \n",
      "566         0.1590  ...        18.980          34.12           126.70   \n",
      "567         0.2397  ...        25.740          39.42           184.60   \n",
      "568         0.1587  ...         9.456          30.37            59.16   \n",
      "\n",
      "     area_worst  smoothness_worst  compactness_worst  concavity_worst  \\\n",
      "0        2019.0           0.16220            0.66560           0.7119   \n",
      "1        1956.0           0.12380            0.18660           0.2416   \n",
      "2        1709.0           0.14440            0.42450           0.4504   \n",
      "3         567.7           0.20980            0.86630           0.6869   \n",
      "4        1575.0           0.13740            0.20500           0.4000   \n",
      "..          ...               ...                ...              ...   \n",
      "564      2027.0           0.14100            0.21130           0.4107   \n",
      "565      1731.0           0.11660            0.19220           0.3215   \n",
      "566      1124.0           0.11390            0.30940           0.3403   \n",
      "567      1821.0           0.16500            0.86810           0.9387   \n",
      "568       268.6           0.08996            0.06444           0.0000   \n",
      "\n",
      "     concave points_worst  symmetry_worst  fractal_dimension_worst  \n",
      "0                  0.2654          0.4601                  0.11890  \n",
      "1                  0.1860          0.2750                  0.08902  \n",
      "2                  0.2430          0.3613                  0.08758  \n",
      "3                  0.2575          0.6638                  0.17300  \n",
      "4                  0.1625          0.2364                  0.07678  \n",
      "..                    ...             ...                      ...  \n",
      "564                0.2216          0.2060                  0.07115  \n",
      "565                0.1628          0.2572                  0.06637  \n",
      "566                0.1418          0.2218                  0.07820  \n",
      "567                0.2650          0.4087                  0.12400  \n",
      "568                0.0000          0.2871                  0.07039  \n",
      "\n",
      "[569 rows x 31 columns]\n"
     ]
    }
   ],
   "source": [
    "data = pd.read_csv(\"cancer.csv\", sep=\",\") # reads data and saves to a variable\n",
    "data = data.drop(columns=[\"id\",\"Unnamed: 32\"], axis=1) # removes the collumn 'id' since there is no correlation between this and the diagnosis.\n",
    "print(data)"
   ]
  },
  {
   "cell_type": "markdown",
   "metadata": {},
   "source": [
    "### numerizing the diagnosis data"
   ]
  },
  {
   "cell_type": "code",
   "execution_count": 6,
   "metadata": {},
   "outputs": [],
   "source": [
    "diagnosis_num = [] # array which our numerical data will be stored in\n",
    "\n",
    "for x in range(len(data)): # for every row in the dataset\n",
    "    if data[\"diagnosis\"][x] == \"M\": # if the diagnosis is malignent (cancerous tumor),\n",
    "        diagnosis_num.append(0) # than add '0' to the array\n",
    "    else: # if the diagnosis is Beneign (non cancerous tumour)\n",
    "        diagnosis_num.append(1) # add '1' to the array\n"
   ]
  },
  {
   "cell_type": "code",
   "execution_count": 7,
   "metadata": {},
   "outputs": [],
   "source": [
    "X = np.array(data.drop(columns=\"diagnosis\", axis=1)) # arrays inside other arrays representing individual rows of the data (patients)\n",
    "Y = diagnosis_num # diagnosis (numerical)\n",
    "X_train, X_test, Y_train, Y_test = train_test_split(X, Y, test_size=0.3, random_state=5) # splits data into training data and testing data\n",
    "scaler = StandardScaler() # makes all data scaled between 0 and 1\n",
    "X_train_scaled = scaler.fit_transform(X_train)\n",
    "X_test_scaled = scaler.transform(X_test) "
   ]
  },
  {
   "cell_type": "markdown",
   "metadata": {},
   "source": [
    "### Train classifyer"
   ]
  },
  {
   "cell_type": "code",
   "execution_count": 8,
   "metadata": {},
   "outputs": [
    {
     "name": "stdout",
     "output_type": "stream",
     "text": [
      "Accuracy: 0.96\n"
     ]
    }
   ],
   "source": [
    "knn_classifier = KNeighborsClassifier(n_neighbors=5) \n",
    "# trains the classifier of the training data\n",
    "knn_classifier.fit(X_train_scaled, Y_train)\n",
    "\n",
    "# makes predictions of the test data\n",
    "y_pred = knn_classifier.predict(X_test_scaled)\n",
    "\n",
    "# calculates the accuracy of the model\n",
    "accuracy = accuracy_score(Y_test, y_pred)\n",
    "print(f\"Accuracy: {accuracy:.2f}\")"
   ]
  }
 ],
 "metadata": {
  "kernelspec": {
   "display_name": "Python 3",
   "language": "python",
   "name": "python3"
  },
  "language_info": {
   "codemirror_mode": {
    "name": "ipython",
    "version": 3
   },
   "file_extension": ".py",
   "mimetype": "text/x-python",
   "name": "python",
   "nbconvert_exporter": "python",
   "pygments_lexer": "ipython3",
   "version": "3.10.6"
  },
  "orig_nbformat": 4
 },
 "nbformat": 4,
 "nbformat_minor": 2
}
