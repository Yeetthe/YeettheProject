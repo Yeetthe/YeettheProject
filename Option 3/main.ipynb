{
 "cells": [
  {
   "cell_type": "markdown",
   "metadata": {},
   "source": [
    "## Option 3: Predicting with KNN\n",
    "#### Objective: \n"
   ]
  },
  {
   "cell_type": "code",
   "execution_count": 44,
   "metadata": {},
   "outputs": [],
   "source": [
    "import pandas as pd\n",
    "import numpy as np\n",
    "from sklearn.utils import shuffle\n",
    "from sklearn.neighbors import KNeighborsClassifier\n",
    "from sklearn import linear_model, preprocessing\n",
    "import sklearn\n",
    "import matplotlib.pyplot as plt"
   ]
  },
  {
   "cell_type": "code",
   "execution_count": 43,
   "metadata": {},
   "outputs": [
    {
     "name": "stdout",
     "output_type": "stream",
     "text": [
      "     buying  maint   door persons lug_boot safety  class\n",
      "0     vhigh  vhigh      2       2    small    low  unacc\n",
      "1     vhigh  vhigh      2       2    small    med  unacc\n",
      "2     vhigh  vhigh      2       2    small   high  unacc\n",
      "3     vhigh  vhigh      2       2      med    low  unacc\n",
      "4     vhigh  vhigh      2       2      med    med  unacc\n",
      "...     ...    ...    ...     ...      ...    ...    ...\n",
      "1723    low    low  5more    more      med    med   good\n",
      "1724    low    low  5more    more      med   high  vgood\n",
      "1725    low    low  5more    more      big    low  unacc\n",
      "1726    low    low  5more    more      big    med   good\n",
      "1727    low    low  5more    more      big   high  vgood\n",
      "\n",
      "[1728 rows x 7 columns]\n"
     ]
    }
   ],
   "source": [
    "data = pd.read_csv(\"car.data\", sep=\",\")\n",
    "print(data)"
   ]
  },
  {
   "cell_type": "markdown",
   "metadata": {},
   "source": [
    "### Processing: converting non-numerical data into numerical data"
   ]
  },
  {
   "cell_type": "code",
   "execution_count": 45,
   "metadata": {},
   "outputs": [
    {
     "name": "stdout",
     "output_type": "stream",
     "text": [
      "[3 3 3 ... 1 1 1]\n"
     ]
    }
   ],
   "source": [
    "label_enc = preprocessing.LabelEncoder()  \n",
    "buying = label_enc.fit_transform(list(data['buying']))\n",
    "maint = label_enc.fit_transform(list(data['maint']))\n",
    "door = label_enc.fit_transform(list(data['door']))\n",
    "persons = label_enc.fit_transform(list(data['persons']))\n",
    "lug_boot = label_enc.fit_transform(list(data['lug_boot']))\n",
    "safety = label_enc.fit_transform(list(data['safety']))\n",
    "cls = label_enc.fit_transform(list(data['class']))\n",
    "\n",
    "print(buying)  # makeing sure that the Thing is printed"
   ]
  },
  {
   "cell_type": "markdown",
   "metadata": {},
   "source": [
    "### Declairing variables and stuff"
   ]
  },
  {
   "cell_type": "code",
   "execution_count": 121,
   "metadata": {},
   "outputs": [
    {
     "name": "stdout",
     "output_type": "stream",
     "text": [
      "(2, 0, 1, 0, 2, 0) 2\n"
     ]
    }
   ],
   "source": [
    "X = list(zip(buying, maint, door, persons, lug_boot, safety)) # Re-aranges the data set with the numerical data\n",
    "Y = list(cls)\n",
    "\n",
    "x_train, x_test, y_train, y_test = sklearn.model_selection.train_test_split(X, Y, test_size=0.1) # splitting\n",
    "\n",
    "print(x_test[14], y_test[14])"
   ]
  },
  {
   "cell_type": "markdown",
   "metadata": {},
   "source": [
    "### Implementing the Data"
   ]
  },
  {
   "cell_type": "code",
   "execution_count": 122,
   "metadata": {},
   "outputs": [
    {
     "name": "stdout",
     "output_type": "stream",
     "text": [
      "0.9364161849710982\n"
     ]
    }
   ],
   "source": [
    "model = KNeighborsClassifier(n_neighbors=5)\n",
    "model.fit(x_train, y_train) # training\n",
    "acc = model.score(x_test, y_test) # accuracy test\n",
    "print(acc)"
   ]
  },
  {
   "cell_type": "markdown",
   "metadata": {},
   "source": [
    "### Accuracy"
   ]
  },
  {
   "cell_type": "code",
   "execution_count": 123,
   "metadata": {},
   "outputs": [
    {
     "name": "stdout",
     "output_type": "stream",
     "text": [
      "predicted:  unacc Data:  (0, 0, 1, 1, 2, 0) Actuall:  unacc\n",
      "predicted:  good Data:  (2, 1, 3, 2, 1, 1) Actuall:  good\n",
      "predicted:  unacc Data:  (2, 3, 0, 1, 0, 2) Actuall:  unacc\n",
      "predicted:  good Data:  (0, 3, 3, 1, 0, 1) Actuall:  good\n",
      "predicted:  good Data:  (0, 2, 3, 0, 0, 1) Actuall:  good\n",
      "predicted:  good Data:  (0, 2, 3, 0, 0, 2) Actuall:  good\n",
      "predicted:  good Data:  (1, 2, 2, 0, 2, 0) Actuall:  good\n",
      "predicted:  good Data:  (3, 2, 3, 1, 0, 1) Actuall:  good\n",
      "predicted:  good Data:  (1, 3, 3, 0, 2, 1) Actuall:  good\n",
      "predicted:  good Data:  (0, 0, 1, 2, 0, 1) Actuall:  good\n",
      "predicted:  good Data:  (1, 1, 0, 0, 1, 0) Actuall:  good\n",
      "predicted:  good Data:  (3, 3, 3, 2, 0, 2) Actuall:  good\n",
      "predicted:  good Data:  (0, 2, 1, 2, 2, 0) Actuall:  unacc\n",
      "predicted:  good Data:  (0, 0, 0, 2, 1, 1) Actuall:  good\n",
      "predicted:  good Data:  (2, 0, 1, 0, 2, 0) Actuall:  good\n",
      "predicted:  good Data:  (2, 3, 0, 1, 0, 1) Actuall:  good\n",
      "predicted:  good Data:  (3, 0, 2, 1, 1, 2) Actuall:  good\n",
      "predicted:  good Data:  (3, 1, 0, 0, 1, 0) Actuall:  good\n",
      "predicted:  unacc Data:  (0, 1, 2, 2, 2, 0) Actuall:  unacc\n",
      "predicted:  good Data:  (2, 0, 3, 0, 2, 1) Actuall:  good\n",
      "predicted:  good Data:  (3, 3, 2, 0, 2, 2) Actuall:  good\n",
      "predicted:  good Data:  (0, 3, 1, 1, 0, 0) Actuall:  good\n",
      "predicted:  good Data:  (0, 3, 1, 2, 0, 2) Actuall:  good\n",
      "predicted:  good Data:  (0, 0, 2, 1, 0, 1) Actuall:  good\n",
      "predicted:  good Data:  (3, 0, 0, 0, 2, 0) Actuall:  good\n",
      "predicted:  unacc Data:  (3, 1, 3, 1, 0, 2) Actuall:  unacc\n",
      "predicted:  good Data:  (2, 0, 2, 2, 1, 2) Actuall:  unacc\n",
      "predicted:  good Data:  (0, 0, 2, 0, 0, 1) Actuall:  good\n",
      "predicted:  good Data:  (1, 2, 1, 2, 2, 2) Actuall:  unacc\n",
      "predicted:  vgood Data:  (1, 2, 2, 2, 1, 0) Actuall:  vgood\n",
      "predicted:  good Data:  (2, 1, 1, 1, 2, 2) Actuall:  unacc\n",
      "predicted:  good Data:  (2, 3, 0, 2, 0, 1) Actuall:  good\n",
      "predicted:  vgood Data:  (2, 1, 3, 2, 0, 0) Actuall:  vgood\n",
      "predicted:  vgood Data:  (1, 2, 3, 2, 0, 0) Actuall:  vgood\n",
      "predicted:  good Data:  (0, 0, 2, 2, 2, 2) Actuall:  good\n",
      "predicted:  good Data:  (0, 2, 1, 0, 1, 1) Actuall:  good\n",
      "predicted:  good Data:  (3, 3, 0, 2, 0, 2) Actuall:  good\n",
      "predicted:  good Data:  (3, 1, 3, 1, 0, 1) Actuall:  good\n",
      "predicted:  acc Data:  (1, 1, 1, 2, 1, 0) Actuall:  vgood\n",
      "predicted:  good Data:  (3, 0, 1, 2, 1, 2) Actuall:  good\n",
      "predicted:  unacc Data:  (3, 1, 3, 2, 0, 0) Actuall:  unacc\n",
      "predicted:  good Data:  (3, 2, 0, 1, 1, 2) Actuall:  good\n",
      "predicted:  good Data:  (1, 3, 1, 0, 1, 0) Actuall:  good\n",
      "predicted:  unacc Data:  (2, 0, 2, 1, 2, 0) Actuall:  unacc\n",
      "predicted:  good Data:  (3, 3, 2, 0, 2, 0) Actuall:  good\n",
      "predicted:  good Data:  (2, 3, 1, 0, 1, 2) Actuall:  good\n",
      "predicted:  good Data:  (3, 3, 1, 2, 0, 1) Actuall:  good\n",
      "predicted:  good Data:  (1, 3, 3, 0, 1, 2) Actuall:  good\n",
      "predicted:  good Data:  (0, 3, 2, 0, 2, 1) Actuall:  good\n",
      "predicted:  good Data:  (3, 1, 1, 0, 0, 0) Actuall:  good\n",
      "predicted:  good Data:  (3, 1, 0, 1, 1, 1) Actuall:  good\n",
      "predicted:  good Data:  (1, 1, 1, 2, 1, 1) Actuall:  good\n",
      "predicted:  good Data:  (1, 3, 3, 0, 2, 0) Actuall:  good\n",
      "predicted:  good Data:  (2, 0, 1, 0, 1, 1) Actuall:  good\n",
      "predicted:  good Data:  (2, 2, 2, 0, 0, 0) Actuall:  good\n",
      "predicted:  unacc Data:  (3, 1, 0, 1, 1, 0) Actuall:  unacc\n",
      "predicted:  good Data:  (3, 0, 3, 1, 2, 0) Actuall:  good\n",
      "predicted:  unacc Data:  (2, 2, 2, 2, 1, 2) Actuall:  unacc\n",
      "predicted:  good Data:  (1, 0, 3, 0, 1, 0) Actuall:  good\n",
      "predicted:  good Data:  (2, 0, 0, 1, 2, 2) Actuall:  good\n",
      "predicted:  unacc Data:  (0, 1, 1, 2, 2, 0) Actuall:  unacc\n",
      "predicted:  good Data:  (3, 1, 1, 2, 1, 1) Actuall:  good\n",
      "predicted:  good Data:  (2, 1, 3, 0, 1, 1) Actuall:  good\n",
      "predicted:  unacc Data:  (3, 1, 0, 2, 1, 0) Actuall:  unacc\n",
      "predicted:  good Data:  (3, 3, 2, 2, 0, 0) Actuall:  good\n",
      "predicted:  good Data:  (1, 3, 2, 0, 1, 2) Actuall:  good\n",
      "predicted:  good Data:  (3, 3, 3, 0, 0, 0) Actuall:  good\n",
      "predicted:  unacc Data:  (2, 0, 0, 2, 0, 0) Actuall:  unacc\n",
      "predicted:  unacc Data:  (1, 0, 3, 2, 1, 2) Actuall:  unacc\n",
      "predicted:  good Data:  (0, 3, 2, 2, 1, 1) Actuall:  good\n",
      "predicted:  good Data:  (2, 3, 1, 1, 0, 1) Actuall:  good\n",
      "predicted:  good Data:  (3, 0, 1, 2, 1, 1) Actuall:  good\n",
      "predicted:  good Data:  (3, 0, 2, 2, 2, 0) Actuall:  good\n",
      "predicted:  good Data:  (1, 2, 3, 0, 2, 2) Actuall:  good\n",
      "predicted:  good Data:  (0, 0, 1, 2, 2, 1) Actuall:  good\n",
      "predicted:  good Data:  (0, 3, 3, 0, 2, 2) Actuall:  good\n",
      "predicted:  unacc Data:  (0, 1, 2, 1, 0, 2) Actuall:  unacc\n",
      "predicted:  good Data:  (0, 1, 2, 0, 0, 0) Actuall:  good\n",
      "predicted:  good Data:  (3, 1, 2, 0, 1, 2) Actuall:  good\n",
      "predicted:  good Data:  (3, 3, 2, 2, 1, 0) Actuall:  good\n",
      "predicted:  good Data:  (0, 0, 3, 1, 0, 1) Actuall:  good\n",
      "predicted:  unacc Data:  (0, 0, 3, 1, 0, 2) Actuall:  unacc\n",
      "predicted:  good Data:  (3, 2, 2, 1, 2, 2) Actuall:  good\n",
      "predicted:  good Data:  (0, 3, 2, 1, 1, 1) Actuall:  good\n",
      "predicted:  good Data:  (3, 0, 0, 2, 0, 1) Actuall:  good\n",
      "predicted:  unacc Data:  (1, 3, 2, 1, 0, 0) Actuall:  unacc\n",
      "predicted:  good Data:  (0, 0, 3, 0, 0, 2) Actuall:  good\n",
      "predicted:  good Data:  (1, 2, 1, 0, 1, 2) Actuall:  good\n",
      "predicted:  good Data:  (3, 1, 3, 0, 1, 2) Actuall:  good\n",
      "predicted:  good Data:  (0, 1, 0, 0, 0, 0) Actuall:  good\n",
      "predicted:  good Data:  (1, 3, 1, 2, 0, 1) Actuall:  good\n",
      "predicted:  unacc Data:  (0, 1, 2, 2, 1, 0) Actuall:  unacc\n",
      "predicted:  good Data:  (0, 3, 1, 0, 2, 1) Actuall:  good\n",
      "predicted:  good Data:  (0, 1, 2, 0, 0, 1) Actuall:  good\n",
      "predicted:  good Data:  (0, 0, 1, 1, 2, 2) Actuall:  good\n",
      "predicted:  unacc Data:  (1, 0, 2, 2, 1, 2) Actuall:  unacc\n",
      "predicted:  good Data:  (0, 3, 0, 0, 2, 0) Actuall:  good\n",
      "predicted:  good Data:  (1, 1, 0, 1, 2, 0) Actuall:  acc\n",
      "predicted:  unacc Data:  (3, 2, 1, 2, 0, 0) Actuall:  unacc\n",
      "predicted:  good Data:  (0, 3, 0, 2, 0, 0) Actuall:  good\n",
      "predicted:  acc Data:  (1, 2, 1, 1, 2, 0) Actuall:  acc\n",
      "predicted:  good Data:  (0, 3, 2, 0, 1, 2) Actuall:  good\n",
      "predicted:  good Data:  (1, 3, 1, 1, 0, 1) Actuall:  good\n",
      "predicted:  good Data:  (1, 2, 2, 2, 0, 1) Actuall:  good\n",
      "predicted:  good Data:  (3, 2, 0, 2, 0, 1) Actuall:  good\n",
      "predicted:  good Data:  (3, 1, 1, 1, 1, 2) Actuall:  good\n",
      "predicted:  good Data:  (3, 2, 2, 0, 2, 1) Actuall:  good\n",
      "predicted:  good Data:  (1, 1, 3, 0, 0, 0) Actuall:  good\n",
      "predicted:  unacc Data:  (1, 3, 3, 2, 0, 0) Actuall:  unacc\n",
      "predicted:  good Data:  (3, 3, 2, 1, 2, 2) Actuall:  good\n",
      "predicted:  good Data:  (1, 1, 2, 0, 0, 2) Actuall:  good\n",
      "predicted:  vgood Data:  (2, 1, 1, 2, 0, 0) Actuall:  vgood\n",
      "predicted:  good Data:  (1, 2, 3, 0, 0, 2) Actuall:  good\n",
      "predicted:  unacc Data:  (3, 2, 2, 2, 1, 0) Actuall:  unacc\n",
      "predicted:  good Data:  (1, 2, 1, 0, 2, 0) Actuall:  good\n",
      "predicted:  good Data:  (2, 2, 0, 2, 2, 1) Actuall:  good\n",
      "predicted:  good Data:  (0, 3, 0, 0, 1, 0) Actuall:  good\n",
      "predicted:  good Data:  (0, 1, 0, 2, 1, 2) Actuall:  good\n",
      "predicted:  good Data:  (0, 0, 1, 0, 2, 1) Actuall:  good\n",
      "predicted:  good Data:  (0, 2, 0, 0, 1, 1) Actuall:  good\n",
      "predicted:  good Data:  (2, 2, 0, 1, 2, 1) Actuall:  good\n",
      "predicted:  unacc Data:  (0, 1, 1, 2, 1, 0) Actuall:  unacc\n",
      "predicted:  good Data:  (0, 3, 0, 2, 2, 2) Actuall:  good\n",
      "predicted:  good Data:  (1, 1, 3, 0, 1, 2) Actuall:  good\n",
      "predicted:  good Data:  (0, 2, 1, 0, 1, 0) Actuall:  good\n",
      "predicted:  good Data:  (3, 3, 2, 0, 1, 1) Actuall:  good\n",
      "predicted:  good Data:  (2, 1, 2, 0, 2, 1) Actuall:  good\n",
      "predicted:  good Data:  (0, 3, 3, 2, 1, 2) Actuall:  good\n",
      "predicted:  good Data:  (2, 1, 0, 0, 2, 1) Actuall:  good\n",
      "predicted:  good Data:  (3, 0, 2, 0, 0, 2) Actuall:  good\n",
      "predicted:  acc Data:  (2, 1, 3, 1, 1, 2) Actuall:  acc\n",
      "predicted:  unacc Data:  (0, 1, 0, 1, 0, 0) Actuall:  unacc\n",
      "predicted:  unacc Data:  (2, 0, 3, 1, 1, 0) Actuall:  unacc\n",
      "predicted:  unacc Data:  (0, 1, 2, 2, 0, 0) Actuall:  unacc\n",
      "predicted:  unacc Data:  (1, 0, 1, 1, 2, 2) Actuall:  unacc\n",
      "predicted:  good Data:  (2, 2, 0, 0, 2, 0) Actuall:  good\n",
      "predicted:  good Data:  (0, 1, 3, 1, 2, 1) Actuall:  good\n",
      "predicted:  vgood Data:  (2, 2, 3, 1, 0, 0) Actuall:  vgood\n",
      "predicted:  good Data:  (2, 1, 1, 1, 2, 1) Actuall:  good\n",
      "predicted:  good Data:  (0, 0, 2, 0, 1, 2) Actuall:  good\n",
      "predicted:  good Data:  (0, 0, 2, 0, 0, 0) Actuall:  good\n",
      "predicted:  good Data:  (0, 2, 1, 1, 0, 1) Actuall:  good\n",
      "predicted:  vgood Data:  (2, 2, 2, 2, 0, 0) Actuall:  vgood\n",
      "predicted:  good Data:  (0, 0, 0, 1, 1, 1) Actuall:  good\n",
      "predicted:  good Data:  (2, 1, 2, 0, 1, 0) Actuall:  good\n",
      "predicted:  good Data:  (2, 0, 0, 1, 1, 2) Actuall:  good\n",
      "predicted:  good Data:  (3, 2, 1, 1, 0, 0) Actuall:  unacc\n",
      "predicted:  good Data:  (1, 1, 2, 2, 2, 1) Actuall:  good\n",
      "predicted:  good Data:  (2, 1, 2, 1, 1, 1) Actuall:  good\n",
      "predicted:  unacc Data:  (0, 0, 2, 2, 2, 0) Actuall:  unacc\n",
      "predicted:  good Data:  (1, 1, 0, 0, 1, 1) Actuall:  good\n",
      "predicted:  good Data:  (0, 1, 0, 0, 0, 1) Actuall:  good\n",
      "predicted:  good Data:  (3, 0, 2, 1, 1, 0) Actuall:  good\n",
      "predicted:  good Data:  (1, 2, 1, 0, 0, 1) Actuall:  good\n",
      "predicted:  good Data:  (1, 1, 0, 0, 2, 1) Actuall:  good\n",
      "predicted:  good Data:  (0, 0, 1, 0, 0, 2) Actuall:  good\n",
      "predicted:  unacc Data:  (3, 2, 1, 2, 1, 0) Actuall:  unacc\n",
      "predicted:  good Data:  (0, 2, 3, 1, 2, 0) Actuall:  unacc\n",
      "predicted:  good Data:  (1, 3, 0, 1, 1, 2) Actuall:  good\n",
      "predicted:  good Data:  (1, 1, 0, 2, 2, 2) Actuall:  good\n",
      "predicted:  unacc Data:  (1, 0, 0, 2, 0, 0) Actuall:  vgood\n",
      "predicted:  unacc Data:  (0, 1, 0, 1, 1, 0) Actuall:  unacc\n",
      "predicted:  good Data:  (1, 2, 0, 2, 2, 2) Actuall:  good\n",
      "predicted:  unacc Data:  (2, 2, 2, 1, 2, 2) Actuall:  unacc\n",
      "predicted:  good Data:  (0, 3, 3, 2, 0, 1) Actuall:  good\n",
      "predicted:  good Data:  (3, 2, 0, 0, 1, 0) Actuall:  good\n",
      "predicted:  good Data:  (1, 3, 1, 1, 0, 2) Actuall:  unacc\n",
      "predicted:  good Data:  (3, 2, 2, 1, 2, 0) Actuall:  unacc\n",
      "predicted:  unacc Data:  (0, 1, 1, 2, 0, 0) Actuall:  unacc\n",
      "predicted:  good Data:  (2, 1, 2, 0, 2, 2) Actuall:  good\n",
      "predicted:  unacc Data:  (1, 3, 1, 1, 0, 0) Actuall:  unacc\n",
      "predicted:  unacc Data:  (3, 2, 1, 1, 2, 0) Actuall:  unacc\n",
      "predicted:  good Data:  (0, 0, 1, 2, 1, 1) Actuall:  good\n"
     ]
    }
   ],
   "source": [
    "predicted = model.predict(x_test)\n",
    "names = [\"unacc\", \"acc\", \"good\", \"vgood\"]\n",
    "\n",
    "for x in range(len(x_test)):\n",
    "    print(\"predicted: \", names[predicted[x]], \"Data: \", x_test[x], \"Actuall: \", names[y_test[x]])"
   ]
  }
 ],
 "metadata": {
  "kernelspec": {
   "display_name": "Python 3",
   "language": "python",
   "name": "python3"
  },
  "language_info": {
   "codemirror_mode": {
    "name": "ipython",
    "version": 3
   },
   "file_extension": ".py",
   "mimetype": "text/x-python",
   "name": "python",
   "nbconvert_exporter": "python",
   "pygments_lexer": "ipython3",
   "version": "3.10.6"
  },
  "orig_nbformat": 4
 },
 "nbformat": 4,
 "nbformat_minor": 2
}
